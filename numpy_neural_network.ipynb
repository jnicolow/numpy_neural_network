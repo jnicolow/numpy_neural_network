{
 "cells": [
  {
   "cell_type": "code",
   "execution_count": 2,
   "metadata": {},
   "outputs": [],
   "source": [
    "from sklearn.datasets import fetch_openml # load MNIST data set\n",
    "import pandas as pd\n",
    "import numpy as np\n",
    "import matplotlib.pyplot as plt\n",
    "import math # for exp in sigmoid"
   ]
  },
  {
   "cell_type": "markdown",
   "metadata": {},
   "source": [
    "# 1. Load MNIST Dataset\n",
    "<img src='media/MNIST_examples.png' alt='MNIST examples'>"
   ]
  },
  {
   "cell_type": "code",
   "execution_count": 3,
   "metadata": {},
   "outputs": [
    {
     "data": {
      "text/plain": [
       "<matplotlib.image.AxesImage at 0x2387067fd50>"
      ]
     },
     "execution_count": 3,
     "metadata": {},
     "output_type": "execute_result"
    },
    {
     "data": {
      "image/png": "[encoded data removed]",
      "text/plain": [
       "<Figure size 640x480 with 1 Axes>"
      ]
     },
     "metadata": {},
     "output_type": "display_data"
    }
   ],
   "source": [
    "# load data from sklearn\n",
    "mnist = fetch_openml('mnist_784')\n",
    "X, y = mnist['data'], mnist['target'] # two dataframes\n",
    "y_one_hot_array = pd.get_dummies(y, prefix='class').to_numpy().astype(int) # do onehot encoding\n",
    "# plot first example\n",
    "image = X.iloc[0].values.reshape(28, 28) # reshape it to the form of an image\n",
    "label = y.iloc[0]\n",
    "plt.title(f'This image of a hand written number: {label}')\n",
    "plt.imshow(image, cmap='gray')"
   ]
  },
  {
   "cell_type": "code",
   "execution_count": 4,
   "metadata": {},
   "outputs": [],
   "source": [
    "def xavier_init(size):\n",
    "    in_dim, out_dim = size\n",
    "    limit = np.sqrt(6 / (in_dim + out_dim))\n",
    "    return np.random.uniform(-limit, limit, size)\n",
    "\n",
    "\n",
    "def he_init(size):\n",
    "    in_dim, _ = size\n",
    "    stddev = np.sqrt(2 / in_dim)\n",
    "    return np.random.normal(0, stddev, size)"
   ]
  },
  {
   "cell_type": "code",
   "execution_count": 5,
   "metadata": {},
   "outputs": [
    {
     "name": "stdout",
     "output_type": "stream",
     "text": [
      "Epoch: 0, train loss: 0.505, validation loss: 0.376, train acc: None, validation acc: 0.881\n",
      "Epoch: 1, train loss: 0.346, validation loss: 0.344, train acc: None, validation acc: 0.892\n",
      "Epoch: 2, train loss: 0.323, validation loss: 0.346, train acc: None, validation acc: 0.889\n",
      "Epoch: 3, train loss: 0.326, validation loss: 0.349, train acc: None, validation acc: 0.887\n",
      "Epoch: 4, train loss: 0.318, validation loss: 0.389, train acc: None, validation acc: 0.867\n",
      "Epoch: 5, train loss: 0.333, validation loss: 0.356, train acc: None, validation acc: 0.888\n",
      "Epoch: 6, train loss: 0.392, validation loss: 0.410, train acc: None, validation acc: 0.876\n",
      "Epoch: 7, train loss: 0.390, validation loss: 0.396, train acc: None, validation acc: 0.875\n",
      "Epoch: 8, train loss: 0.358, validation loss: 0.419, train acc: None, validation acc: 0.864\n",
      "Epoch: 9, train loss: 0.359, validation loss: 0.411, train acc: None, validation acc: 0.858\n",
      "Epoch: 10, train loss: 0.344, validation loss: 0.369, train acc: None, validation acc: 0.881\n",
      "Epoch: 11, train loss: 0.343, validation loss: 0.388, train acc: None, validation acc: 0.874\n",
      "Epoch: 12, train loss: 0.332, validation loss: 0.353, train acc: None, validation acc: 0.889\n",
      "Epoch: 13, train loss: 0.316, validation loss: 0.345, train acc: None, validation acc: 0.889\n",
      "Epoch: 14, train loss: 0.309, validation loss: 0.329, train acc: None, validation acc: 0.892\n",
      "Epoch: 15, train loss: 0.309, validation loss: 0.324, train acc: None, validation acc: 0.897\n",
      "Epoch: 16, train loss: 0.306, validation loss: 0.341, train acc: None, validation acc: 0.890\n",
      "Epoch: 17, train loss: 0.300, validation loss: 0.322, train acc: None, validation acc: 0.897\n",
      "Epoch: 18, train loss: 0.298, validation loss: 0.317, train acc: None, validation acc: 0.900\n",
      "Epoch: 19, train loss: 0.295, validation loss: 0.310, train acc: None, validation acc: 0.900\n",
      "Epoch: 20, train loss: 0.288, validation loss: 0.317, train acc: None, validation acc: 0.897\n",
      "Epoch: 21, train loss: 0.283, validation loss: 0.308, train acc: None, validation acc: 0.902\n",
      "Epoch: 22, train loss: 0.283, validation loss: 0.295, train acc: None, validation acc: 0.906\n",
      "Epoch: 23, train loss: 0.276, validation loss: 0.292, train acc: None, validation acc: 0.908\n",
      "Epoch: 24, train loss: 0.277, validation loss: 0.305, train acc: None, validation acc: 0.902\n",
      "Epoch: 25, train loss: 0.275, validation loss: 0.314, train acc: None, validation acc: 0.896\n",
      "Epoch: 26, train loss: 0.270, validation loss: 0.304, train acc: None, validation acc: 0.901\n",
      "Epoch: 27, train loss: 0.265, validation loss: 0.296, train acc: None, validation acc: 0.906\n",
      "Epoch: 28, train loss: 0.264, validation loss: 0.294, train acc: None, validation acc: 0.908\n",
      "Epoch: 29, train loss: 0.262, validation loss: 0.298, train acc: None, validation acc: 0.903\n",
      "Epoch: 30, train loss: 0.261, validation loss: 0.288, train acc: None, validation acc: 0.907\n",
      "Epoch: 31, train loss: 0.260, validation loss: 0.296, train acc: None, validation acc: 0.906\n",
      "Epoch: 32, train loss: 0.261, validation loss: 0.297, train acc: None, validation acc: 0.906\n",
      "Epoch: 33, train loss: 0.255, validation loss: 0.305, train acc: None, validation acc: 0.903\n",
      "Epoch: 34, train loss: 0.259, validation loss: 0.293, train acc: None, validation acc: 0.905\n",
      "Epoch: 35, train loss: 0.254, validation loss: 0.305, train acc: None, validation acc: 0.900\n",
      "Epoch: 36, train loss: 0.251, validation loss: 0.282, train acc: None, validation acc: 0.909\n",
      "Epoch: 37, train loss: 0.254, validation loss: 0.278, train acc: None, validation acc: 0.910\n",
      "Epoch: 38, train loss: 0.245, validation loss: 0.297, train acc: None, validation acc: 0.905\n",
      "Epoch: 39, train loss: 0.250, validation loss: 0.292, train acc: None, validation acc: 0.906\n",
      "Epoch: 40, train loss: 0.244, validation loss: 0.283, train acc: None, validation acc: 0.911\n",
      "Epoch: 41, train loss: 0.242, validation loss: 0.285, train acc: None, validation acc: 0.908\n",
      "Epoch: 42, train loss: 0.237, validation loss: 0.289, train acc: None, validation acc: 0.904\n",
      "Epoch: 43, train loss: 0.240, validation loss: 0.283, train acc: None, validation acc: 0.908\n",
      "Epoch: 44, train loss: 0.233, validation loss: 0.263, train acc: None, validation acc: 0.914\n",
      "Epoch: 45, train loss: 0.234, validation loss: 0.270, train acc: None, validation acc: 0.915\n",
      "Epoch: 46, train loss: 0.231, validation loss: 0.270, train acc: None, validation acc: 0.912\n",
      "Epoch: 47, train loss: 0.232, validation loss: 0.263, train acc: None, validation acc: 0.915\n",
      "Epoch: 48, train loss: 0.230, validation loss: 0.262, train acc: None, validation acc: 0.916\n",
      "Epoch: 49, train loss: 0.228, validation loss: 0.262, train acc: None, validation acc: 0.916\n",
      "Epoch: 50, train loss: 0.226, validation loss: 0.257, train acc: None, validation acc: 0.916\n",
      "Epoch: 51, train loss: 0.225, validation loss: 0.253, train acc: None, validation acc: 0.916\n",
      "Epoch: 52, train loss: 0.222, validation loss: 0.257, train acc: None, validation acc: 0.917\n",
      "Epoch: 53, train loss: 0.222, validation loss: 0.255, train acc: None, validation acc: 0.917\n",
      "Epoch: 54, train loss: 0.219, validation loss: 0.257, train acc: None, validation acc: 0.916\n",
      "Epoch: 55, train loss: 0.220, validation loss: 0.262, train acc: None, validation acc: 0.918\n",
      "Epoch: 56, train loss: 0.220, validation loss: 0.261, train acc: None, validation acc: 0.917\n",
      "Epoch: 57, train loss: 0.218, validation loss: 0.262, train acc: None, validation acc: 0.916\n",
      "Epoch: 58, train loss: 0.219, validation loss: 0.266, train acc: None, validation acc: 0.914\n",
      "Epoch: 59, train loss: 0.219, validation loss: 0.263, train acc: None, validation acc: 0.915\n",
      "Epoch: 60, train loss: 0.216, validation loss: 0.249, train acc: None, validation acc: 0.920\n",
      "Epoch: 61, train loss: 0.215, validation loss: 0.258, train acc: None, validation acc: 0.918\n",
      "Epoch: 62, train loss: 0.214, validation loss: 0.251, train acc: None, validation acc: 0.919\n",
      "Epoch: 63, train loss: 0.211, validation loss: 0.256, train acc: None, validation acc: 0.917\n",
      "Epoch: 64, train loss: 0.209, validation loss: 0.259, train acc: None, validation acc: 0.918\n",
      "Epoch: 65, train loss: 0.211, validation loss: 0.246, train acc: None, validation acc: 0.923\n",
      "Epoch: 66, train loss: 0.212, validation loss: 0.258, train acc: None, validation acc: 0.918\n",
      "Epoch: 67, train loss: 0.206, validation loss: 0.246, train acc: None, validation acc: 0.922\n",
      "Epoch: 68, train loss: 0.208, validation loss: 0.254, train acc: None, validation acc: 0.919\n",
      "Epoch: 69, train loss: 0.203, validation loss: 0.263, train acc: None, validation acc: 0.915\n",
      "Epoch: 70, train loss: 0.207, validation loss: 0.258, train acc: None, validation acc: 0.916\n",
      "Epoch: 71, train loss: 0.200, validation loss: 0.254, train acc: None, validation acc: 0.917\n",
      "Epoch: 72, train loss: 0.205, validation loss: 0.245, train acc: None, validation acc: 0.923\n",
      "Epoch: 73, train loss: 0.207, validation loss: 0.247, train acc: None, validation acc: 0.923\n",
      "Epoch: 74, train loss: 0.202, validation loss: 0.246, train acc: None, validation acc: 0.921\n",
      "Epoch: 75, train loss: 0.208, validation loss: 0.263, train acc: None, validation acc: 0.915\n",
      "Epoch: 76, train loss: 0.199, validation loss: 0.256, train acc: None, validation acc: 0.917\n",
      "Epoch: 77, train loss: 0.200, validation loss: 0.254, train acc: None, validation acc: 0.919\n",
      "Epoch: 78, train loss: 0.203, validation loss: 0.254, train acc: None, validation acc: 0.920\n",
      "Epoch: 79, train loss: 0.205, validation loss: 0.257, train acc: None, validation acc: 0.917\n",
      "Epoch: 80, train loss: 0.200, validation loss: 0.241, train acc: None, validation acc: 0.923\n",
      "Epoch: 81, train loss: 0.197, validation loss: 0.249, train acc: None, validation acc: 0.919\n",
      "Epoch: 82, train loss: 0.199, validation loss: 0.240, train acc: None, validation acc: 0.926\n",
      "Epoch: 83, train loss: 0.201, validation loss: 0.241, train acc: None, validation acc: 0.923\n",
      "Epoch: 84, train loss: 0.198, validation loss: 0.237, train acc: None, validation acc: 0.926\n",
      "Epoch: 85, train loss: 0.198, validation loss: 0.245, train acc: None, validation acc: 0.922\n",
      "Epoch: 86, train loss: 0.192, validation loss: 0.241, train acc: None, validation acc: 0.923\n",
      "Epoch: 87, train loss: 0.192, validation loss: 0.244, train acc: None, validation acc: 0.924\n",
      "Epoch: 88, train loss: 0.195, validation loss: 0.251, train acc: None, validation acc: 0.919\n",
      "Epoch: 89, train loss: 0.196, validation loss: 0.236, train acc: None, validation acc: 0.926\n",
      "Epoch: 90, train loss: 0.193, validation loss: 0.251, train acc: None, validation acc: 0.919\n",
      "Epoch: 91, train loss: 0.196, validation loss: 0.238, train acc: None, validation acc: 0.926\n",
      "Epoch: 92, train loss: 0.195, validation loss: 0.239, train acc: None, validation acc: 0.922\n",
      "Epoch: 93, train loss: 0.191, validation loss: 0.243, train acc: None, validation acc: 0.922\n",
      "Epoch: 94, train loss: 0.194, validation loss: 0.244, train acc: None, validation acc: 0.921\n",
      "Epoch: 95, train loss: 0.188, validation loss: 0.245, train acc: None, validation acc: 0.923\n",
      "Epoch: 96, train loss: 0.191, validation loss: 0.242, train acc: None, validation acc: 0.923\n",
      "Epoch: 97, train loss: 0.196, validation loss: 0.244, train acc: None, validation acc: 0.923\n",
      "Epoch: 98, train loss: 0.195, validation loss: 0.250, train acc: None, validation acc: 0.918\n",
      "Epoch: 99, train loss: 0.197, validation loss: 0.261, train acc: None, validation acc: 0.919\n",
      "Epoch: 100, train loss: 0.197, validation loss: 0.239, train acc: None, validation acc: 0.926\n",
      "Epoch: 101, train loss: 0.190, validation loss: 0.235, train acc: None, validation acc: 0.927\n",
      "Epoch: 102, train loss: 0.188, validation loss: 0.238, train acc: None, validation acc: 0.923\n",
      "Epoch: 103, train loss: 0.189, validation loss: 0.245, train acc: None, validation acc: 0.925\n",
      "Epoch: 104, train loss: 0.188, validation loss: 0.246, train acc: None, validation acc: 0.923\n",
      "Epoch: 105, train loss: 0.194, validation loss: 0.253, train acc: None, validation acc: 0.919\n",
      "Epoch: 106, train loss: 0.191, validation loss: 0.248, train acc: None, validation acc: 0.925\n",
      "Epoch: 107, train loss: 0.195, validation loss: 0.248, train acc: None, validation acc: 0.924\n",
      "Epoch: 108, train loss: 0.198, validation loss: 0.246, train acc: None, validation acc: 0.923\n",
      "Epoch: 109, train loss: 0.188, validation loss: 0.239, train acc: None, validation acc: 0.926\n",
      "Epoch: 110, train loss: 0.185, validation loss: 0.243, train acc: None, validation acc: 0.926\n",
      "Epoch: 111, train loss: 0.184, validation loss: 0.234, train acc: None, validation acc: 0.925\n",
      "Epoch: 112, train loss: 0.187, validation loss: 0.240, train acc: None, validation acc: 0.924\n",
      "Epoch: 113, train loss: 0.191, validation loss: 0.251, train acc: None, validation acc: 0.921\n",
      "Epoch: 114, train loss: 0.193, validation loss: 0.252, train acc: None, validation acc: 0.923\n",
      "Epoch: 115, train loss: 0.187, validation loss: 0.239, train acc: None, validation acc: 0.925\n",
      "Epoch: 116, train loss: 0.191, validation loss: 0.239, train acc: None, validation acc: 0.926\n",
      "Epoch: 117, train loss: 0.182, validation loss: 0.245, train acc: None, validation acc: 0.925\n",
      "Epoch: 118, train loss: 0.187, validation loss: 0.249, train acc: None, validation acc: 0.920\n",
      "Epoch: 119, train loss: 0.184, validation loss: 0.238, train acc: None, validation acc: 0.927\n",
      "Epoch: 120, train loss: 0.185, validation loss: 0.243, train acc: None, validation acc: 0.923\n",
      "Epoch: 121, train loss: 0.187, validation loss: 0.251, train acc: None, validation acc: 0.921\n",
      "Epoch: 122, train loss: 0.191, validation loss: 0.246, train acc: None, validation acc: 0.922\n",
      "Epoch: 123, train loss: 0.187, validation loss: 0.236, train acc: None, validation acc: 0.926\n",
      "Epoch: 124, train loss: 0.186, validation loss: 0.240, train acc: None, validation acc: 0.924\n",
      "Epoch: 125, train loss: 0.184, validation loss: 0.236, train acc: None, validation acc: 0.924\n",
      "Epoch: 126, train loss: 0.182, validation loss: 0.234, train acc: None, validation acc: 0.927\n",
      "Epoch: 127, train loss: 0.180, validation loss: 0.230, train acc: None, validation acc: 0.927\n",
      "Epoch: 128, train loss: 0.182, validation loss: 0.236, train acc: None, validation acc: 0.925\n",
      "Epoch: 129, train loss: 0.179, validation loss: 0.234, train acc: None, validation acc: 0.927\n",
      "Epoch: 130, train loss: 0.179, validation loss: 0.236, train acc: None, validation acc: 0.926\n",
      "Epoch: 131, train loss: 0.180, validation loss: 0.234, train acc: None, validation acc: 0.928\n",
      "Epoch: 132, train loss: 0.177, validation loss: 0.231, train acc: None, validation acc: 0.930\n",
      "Epoch: 133, train loss: 0.180, validation loss: 0.230, train acc: None, validation acc: 0.927\n",
      "Epoch: 134, train loss: 0.180, validation loss: 0.243, train acc: None, validation acc: 0.926\n",
      "Epoch: 135, train loss: 0.180, validation loss: 0.221, train acc: None, validation acc: 0.930\n",
      "Epoch: 136, train loss: 0.174, validation loss: 0.225, train acc: None, validation acc: 0.926\n",
      "Epoch: 137, train loss: 0.179, validation loss: 0.233, train acc: None, validation acc: 0.928\n",
      "Epoch: 138, train loss: 0.187, validation loss: 0.236, train acc: None, validation acc: 0.926\n",
      "Epoch: 139, train loss: 0.179, validation loss: 0.222, train acc: None, validation acc: 0.929\n",
      "Epoch: 140, train loss: 0.173, validation loss: 0.232, train acc: None, validation acc: 0.927\n",
      "Epoch: 141, train loss: 0.173, validation loss: 0.225, train acc: None, validation acc: 0.927\n",
      "Epoch: 142, train loss: 0.176, validation loss: 0.230, train acc: None, validation acc: 0.927\n",
      "Epoch: 143, train loss: 0.175, validation loss: 0.235, train acc: None, validation acc: 0.926\n",
      "Epoch: 144, train loss: 0.174, validation loss: 0.224, train acc: None, validation acc: 0.929\n",
      "Epoch: 145, train loss: 0.172, validation loss: 0.224, train acc: None, validation acc: 0.929\n",
      "Epoch: 146, train loss: 0.178, validation loss: 0.238, train acc: None, validation acc: 0.925\n",
      "Epoch: 147, train loss: 0.173, validation loss: 0.224, train acc: None, validation acc: 0.930\n",
      "Epoch: 148, train loss: 0.177, validation loss: 0.231, train acc: None, validation acc: 0.928\n",
      "Epoch: 149, train loss: 0.171, validation loss: 0.225, train acc: None, validation acc: 0.928\n"
     ]
    },
    {
     "ename": "KeyboardInterrupt",
     "evalue": "",
     "output_type": "error",
     "traceback": [
      "\u001b[1;31m---------------------------------------------------------------------------\u001b[0m",
      "\u001b[1;31mKeyboardInterrupt\u001b[0m                         Traceback (most recent call last)",
      "Cell \u001b[1;32mIn[5], line 96\u001b[0m\n\u001b[0;32m     93\u001b[0m hidden_output \u001b[38;5;241m=\u001b[39m hiddenlayer02\u001b[38;5;241m.\u001b[39mforward(hidden_output, backprop\u001b[38;5;241m=\u001b[39m\u001b[38;5;28;01mTrue\u001b[39;00m)\n\u001b[0;32m     94\u001b[0m hidden_output \u001b[38;5;241m=\u001b[39m hiddenlayer03\u001b[38;5;241m.\u001b[39mforward(hidden_output, backprop\u001b[38;5;241m=\u001b[39m\u001b[38;5;28;01mTrue\u001b[39;00m)\n\u001b[1;32m---> 96\u001b[0m y_hat \u001b[38;5;241m=\u001b[39m outputlayer\u001b[38;5;241m.\u001b[39mforward(hidden_output, backprop\u001b[38;5;241m=\u001b[39m\u001b[38;5;28;01mTrue\u001b[39;00m) \u001b[38;5;66;03m# do forward pass saving inputs at each step\u001b[39;00m\n\u001b[0;32m     99\u001b[0m \u001b[38;5;66;03m# compute loss\u001b[39;00m\n\u001b[0;32m    100\u001b[0m loss \u001b[38;5;241m=\u001b[39m training_loss_class\u001b[38;5;241m.\u001b[39mforward(y\u001b[38;5;241m=\u001b[39my_batch, y_hat\u001b[38;5;241m=\u001b[39my_hat, weights\u001b[38;5;241m=\u001b[39moutputlayer\u001b[38;5;241m.\u001b[39mweights)\n",
      "File \u001b[1;32mc:\\Users\\Jim\\OneDrive\\Documents\\courses\\ics-637\\numpy_neural_network\\linearnn\\linearnnclasses.py:36\u001b[0m, in \u001b[0;36mLinearLayer.forward\u001b[1;34m(self, x, backprop)\u001b[0m\n\u001b[0;32m     33\u001b[0m \u001b[38;5;28;01mif\u001b[39;00m backprop: \u001b[38;5;28mself\u001b[39m\u001b[38;5;241m.\u001b[39minput \u001b[38;5;241m=\u001b[39m x \u001b[38;5;66;03m# remeber input to the layer for backprop\u001b[39;00m\n\u001b[0;32m     35\u001b[0m \u001b[38;5;66;03m# linear transformation\u001b[39;00m\n\u001b[1;32m---> 36\u001b[0m linear_transformation_output \u001b[38;5;241m=\u001b[39m np\u001b[38;5;241m.\u001b[39mdot(x, \u001b[38;5;28mself\u001b[39m\u001b[38;5;241m.\u001b[39mweights) \u001b[38;5;241m+\u001b[39m \u001b[38;5;28mself\u001b[39m\u001b[38;5;241m.\u001b[39mbias \u001b[38;5;66;03m# Wx + b\u001b[39;00m\n\u001b[0;32m     37\u001b[0m \u001b[38;5;28;01mif\u001b[39;00m backprop:\u001b[38;5;28mself\u001b[39m\u001b[38;5;241m.\u001b[39mlinear_transrom \u001b[38;5;241m=\u001b[39m linear_transformation_output \u001b[38;5;66;03m# saving these to be used in backpropigation\u001b[39;00m\n\u001b[0;32m     39\u001b[0m \u001b[38;5;66;03m# activation\u001b[39;00m\n",
      "\u001b[1;31mKeyboardInterrupt\u001b[0m: "
     ]
    }
   ],
   "source": [
    "# Declare simple network\n",
    "import importlib\n",
    "from linearnn import linearnnclasses\n",
    "importlib.reload(linearnnclasses)\n",
    "from linearnn import activationfunctions\n",
    "from linearnn import lossfunctions\n",
    "\n",
    "importlib.reload(activationfunctions)\n",
    "from linearnn.activationfunctions import ReLU, SELU, Tanh, Softmax, DummyActivation\n",
    "from linearnn.optim import AdamOptimizer\n",
    "\n",
    "\n",
    "hidden_layer_sizes = (512, 256, 128)\n",
    "# hidden_layer_sizes = (256, 128, 64)\n",
    "# hidden_layer_sizes = (128, 64, 28)\n",
    "\n",
    "learning_rate = 0.001\n",
    "\n",
    "\n",
    "hiddenlayer01 = linearnnclasses.LinearLayer(\n",
    "    input_size=784, \n",
    "    output_size=hidden_layer_sizes[0], \n",
    "    activation_fn_class=ReLU, \n",
    "    weight_init=he_init,\n",
    "    learning_rate=learning_rate,\n",
    "    optimizer=AdamOptimizer # a seperate instace for each layer cuz each layer is a different shape\n",
    ")\n",
    "\n",
    "\n",
    "hiddenlayer02 = linearnnclasses.LinearLayer(\n",
    "    input_size=hidden_layer_sizes[0], \n",
    "    output_size=hidden_layer_sizes[1], \n",
    "    activation_fn_class=SELU, \n",
    "    weight_init=he_init,\n",
    "    learning_rate=learning_rate,\n",
    "    optimizer=AdamOptimizer\n",
    ")\n",
    "\n",
    "\n",
    "hiddenlayer03 = linearnnclasses.LinearLayer(\n",
    "    input_size=hidden_layer_sizes[1], \n",
    "    output_size=hidden_layer_sizes[2], \n",
    "    activation_fn_class=Tanh, \n",
    "    weight_init=xavier_init, # this init is for tanh activation\n",
    "    learning_rate=learning_rate,\n",
    "    optimizer=AdamOptimizer\n",
    ")\n",
    "\n",
    "outputlayer = linearnnclasses.LinearLayer(\n",
    "    input_size=hidden_layer_sizes[2], \n",
    "    output_size=10, \n",
    "    activation_fn_class=DummyActivation, # dummy activation because softmax is incorperated into the loss function\n",
    "    weight_init=he_init,\n",
    "    learning_rate=learning_rate,\n",
    "    optimizer=AdamOptimizer\n",
    ")\n",
    "\n",
    "\n",
    "\n",
    "num_epochs = 500\n",
    "batch_size = 512\n",
    "\n",
    "split_position = 50_000\n",
    "valid_size = 5_000\n",
    "# test set\n",
    "X_test = X.iloc[split_position+valid_size:].values / 255\n",
    "y_test = y_one_hot_array[split_position+valid_size:,:]\n",
    "y_truth_test = np.argmax(y_test, axis=1) # convert from onehot to just the correct number\n",
    "# validation set\n",
    "X_valid = X.iloc[split_position - valid_size:split_position].values / 255\n",
    "y_valid = y_one_hot_array[split_position - valid_size:split_position]\n",
    "y_truth_valid = np.argmax(y_valid, axis=1) # convert from onehot to just the correct number\n",
    "split_position = 40_000 # reinitialized to decide training data size\n",
    "\n",
    "train_losses = []\n",
    "val_losses = []\n",
    "val_accuracies = []\n",
    "epochs = list(range(num_epochs)) # if stopping training prematurely this could be an issue\n",
    "\n",
    "training_loss_class = lossfunctions.CategoricalCrossEntropy(l2_lambda=0)\n",
    "\n",
    "for epoch in range(num_epochs):\n",
    "    # itterate over batches\n",
    "    running_loss = 0.0\n",
    "    batch_counter = 0 # keep track of number of epochs to get average of training losses\n",
    "    for i in range(0, X.iloc[0:split_position].shape[0]-batch_size, batch_size):\n",
    "        x_batch = X.iloc[i:i+batch_size].values / 255\n",
    "        y_batch = y_one_hot_array[i:i+batch_size, :]\n",
    "\n",
    "        # forwaed pass\n",
    "        hidden_output = hiddenlayer01.forward(x_batch, backprop=True)\n",
    "        # hidden_output = dropoutlayer01.forward(hidden_output, training=True)\n",
    "        hidden_output = hiddenlayer02.forward(hidden_output, backprop=True)\n",
    "        hidden_output = hiddenlayer03.forward(hidden_output, backprop=True)\n",
    "\n",
    "        y_hat = outputlayer.forward(hidden_output, backprop=True) # do forward pass saving inputs at each step\n",
    "\n",
    "\n",
    "        # compute loss\n",
    "        loss = training_loss_class.forward(y=y_batch, y_hat=y_hat, weights=outputlayer.weights)\n",
    "        running_loss += loss\n",
    "\n",
    "\n",
    "        # back propagation\n",
    "        loss_gradient = training_loss_class.derivative(y=y_batch, y_hat=y_hat)\n",
    "\n",
    "        output_layer_gradient = outputlayer.backward(output_gradient=loss_gradient)#, y = y_batch) # have to pass y for derivative of soft max\n",
    "\n",
    "        hidden_layer_gradient = hiddenlayer03.backward(output_gradient=output_layer_gradient)      \n",
    "        hidden_layer_gradient = hiddenlayer02.backward(output_gradient=hidden_layer_gradient)  \n",
    "        # hidden_layer_gradient = dropoutlayer01.backward(output_gradient =hidden_layer_gradient)    \n",
    "        hidden_layer_gradient = hiddenlayer01.backward(output_gradient=hidden_layer_gradient)      \n",
    "\n",
    "\n",
    "\n",
    "\n",
    "\n",
    "        batch_counter += 1\n",
    "\n",
    "\n",
    "    running_loss /= batch_counter # get average of batch losses for the epoch\n",
    "    train_losses.append(running_loss)\n",
    "\n",
    "    # predicted_nums = np.argmax(y_hat, axis=1)\n",
    "    # correct_predictions = np.sum(predicted_nums == y_truth)\n",
    "    # train_accuracy = correct_predictions / y_truth.shape[0]\n",
    "    \n",
    "\n",
    "\n",
    "    # Evaluation on Test set (only done once per epoch)\n",
    "    hidden_output = hiddenlayer01.forward(X_valid, backprop=False) # back prop as false because no need store intermediate values\n",
    "    hidden_output = hiddenlayer02.forward(hidden_output, backprop=False)\n",
    "    hidden_output = hiddenlayer03.forward(hidden_output, backprop=False)\n",
    "    y_hat = outputlayer.forward(hidden_output, backprop=False) # back prop as false because no need store intermediate values\n",
    "    \n",
    "    val_loss = lossfunctions.CategoricalCrossEntropy(l2_lambda=0.0).forward(y=y_valid, y_hat=y_hat)\n",
    "    val_losses.append(val_loss)\n",
    "\n",
    "    predicted_nums = np.argmax(y_hat, axis=1)\n",
    "    correct_predictions = np.sum(predicted_nums == y_truth_valid)\n",
    "    val_accuracy = correct_predictions / y_truth_valid.shape[0]\n",
    "    val_accuracies.append(val_accuracy)\n",
    "\n",
    "    print(f'Epoch: {epoch}, train loss: {running_loss:0.3f}, validation loss: {val_loss:0.3f}, train acc: {None}, validation acc: {val_accuracy:0.3f}')\n",
    "\n",
    "\n",
    "# evaluation on held out test set\n",
    "\n",
    "hidden_output = hiddenlayer01.forward(X_test, backprop=False) # back prop as false because no need store intermediate values\n",
    "hidden_output = hiddenlayer02.forward(hidden_output, backprop=False)\n",
    "hidden_output = hiddenlayer03.forward(hidden_output, backprop=False)\n",
    "y_hat = outputlayer.forward(hidden_output, backprop=False) # back prop as false because no need store intermediate values\n",
    "\n",
    "test_loss = lossfunctions.CategoricalCrossEntropy(l2_lambda=0.0).forward(y=y_test, y_hat=y_hat)\n",
    "\n",
    "\n",
    "predicted_nums = np.argmax(y_hat, axis=1)\n",
    "correct_predictions = np.sum(predicted_nums == y_truth_test)\n",
    "test_accuracy = correct_predictions / y_truth_test.shape[0]\n",
    "\n",
    "print(f'Model training complete with test loss: {test_loss} and 01 loss: {test_accuracy}')\n"
   ]
  },
  {
   "cell_type": "code",
   "execution_count": 6,
   "metadata": {},
   "outputs": [
    {
     "name": "stdout",
     "output_type": "stream",
     "text": [
      "Model training complete with test loss: 0.20181106667057042 and 01 loss: 0.9386666666666666\n"
     ]
    }
   ],
   "source": [
    "hidden_output = hiddenlayer01.forward(X_test, backprop=False) # back prop as false because no need store intermediate values\n",
    "hidden_output = hiddenlayer02.forward(hidden_output, backprop=False)\n",
    "hidden_output = hiddenlayer03.forward(hidden_output, backprop=False)\n",
    "y_hat = outputlayer.forward(hidden_output, backprop=False) # back prop as false because no need store intermediate values\n",
    "\n",
    "test_loss = lossfunctions.CategoricalCrossEntropy(l2_lambda=0.0).forward(y=y_test, y_hat=y_hat)\n",
    "\n",
    "\n",
    "predicted_nums = np.argmax(y_hat, axis=1)\n",
    "correct_predictions = np.sum(predicted_nums == y_truth_test)\n",
    "test_accuracy = correct_predictions / y_truth_test.shape[0]\n",
    "\n",
    "print(f'Model training complete with test loss: {test_loss} and 01 loss: {test_accuracy}')"
   ]
  },
  {
   "cell_type": "code",
   "execution_count": 7,
   "metadata": {},
   "outputs": [
    {
     "data": {
      "text/plain": [
       "['trained_layers_final_model.pkl']"
      ]
     },
     "execution_count": 7,
     "metadata": {},
     "output_type": "execute_result"
    }
   ],
   "source": [
    "layers = [hiddenlayer01, hiddenlayer02, hiddenlayer03, outputlayer]\n",
    "import joblib\n",
    "joblib.dump(layers, r'trained_layers_final_model.pkl')"
   ]
  },
  {
   "cell_type": "code",
   "execution_count": 18,
   "metadata": {},
   "outputs": [
    {
     "data": {
      "image/png": "[encoded data removed]",
      "text/plain": [
       "<Figure size 800x600 with 1 Axes>"
      ]
     },
     "metadata": {},
     "output_type": "display_data"
    }
   ],
   "source": [
    "import matplotlib.pyplot as plt\n",
    "\n",
    "epochs = list(range(len(val_losses))) # just incase it was stopped early\n",
    "\n",
    "# Assuming train_losses, test_losses, and epochs are already populated\n",
    "plt.figure(figsize=(8, 6))\n",
    "\n",
    "# Plot training loss\n",
    "plt.plot(epochs, train_losses, label='Training Loss', color='blue', marker=None)\n",
    "\n",
    "# Plot testing loss\n",
    "plt.plot(epochs, val_losses, label='Testing Loss', color='orange', marker=None)\n",
    "\n",
    "# Add title and labels\n",
    "plt.title('Training and Testing Loss Over Epochs')\n",
    "plt.xlabel('Epochs')\n",
    "plt.ylabel('Loss')\n",
    "\n",
    "# Add legend\n",
    "plt.legend()\n",
    "\n",
    "# Show the plot\n",
    "plt.show()"
   ]
  },
  {
   "cell_type": "code",
   "execution_count": 144,
   "metadata": {},
   "outputs": [
    {
     "name": "stdout",
     "output_type": "stream",
     "text": [
      "(100, 784)\n"
     ]
    }
   ],
   "source": [
    "x_batch = X.iloc[0:100].values / 255\n",
    "print(x_batch.shape)"
   ]
  },
  {
   "cell_type": "markdown",
   "metadata": {},
   "source": [
    "# Using Sequential model class (under developement)"
   ]
  },
  {
   "cell_type": "code",
   "execution_count": 19,
   "metadata": {},
   "outputs": [
    {
     "name": "stdout",
     "output_type": "stream",
     "text": [
      "building model...\n",
      "5\n",
      "1\n",
      "Adding: LinearLayer input:784, output:512, activation:<class 'linearnn.activationfunctions.ReLU'>\n",
      "2\n",
      "Adding: LinearLayer input:512, output:256, activation:<class 'linearnn.activationfunctions.SELU'>\n",
      "3\n",
      "Adding: LinearLayer input:256, output:128, activation:<class 'linearnn.activationfunctions.Tanh'>\n",
      "4\n",
      "Adding: LinearLayer input:128, output:10, activation:<class 'linearnn.activationfunctions.DummyActivation'>\n",
      "model built\n"
     ]
    }
   ],
   "source": [
    "from linearnn import linearnnclasses\n",
    "from linearnn import lossfunctions\n",
    "from linearnn.activationfunctions import ReLU, SELU, Tanh, DummyActivation\n",
    "# from linearnn.optim import AdamOptimizer\n",
    "from linearnn import optim\n",
    "import importlib\n",
    "importlib.reload(linearnnclasses)\n",
    "importlib.reload(optim)\n",
    "\n",
    "\n",
    "\n",
    "\n",
    "sequential_model = linearnnclasses.SequentialModel(\n",
    "    input_size=784,\n",
    "    output_size=10,\n",
    "    hidden_layers=(512, 256, 128), \n",
    "    activation_fn_classes=(ReLU, SELU, Tanh, DummyActivation),\n",
    "    weight_init=(he_init, he_init, xavier_init, he_init),\n",
    "    loss_fn_class = lossfunctions.CategoricalCrossEntropy,\n",
    "    learning_rate = 0.07,\n",
    "    optimizer=None#optim.AdamOptimizer # with default settings (see linearnn/optim.py)\n",
    ")\n",
    "# sequential_model.forward(x_batch)\n",
    "# sequential_model.backward(x_batch, y_one_hot_array[0:500, :])"
   ]
  },
  {
   "cell_type": "markdown",
   "metadata": {},
   "source": [
    "# 4. Model Training"
   ]
  },
  {
   "cell_type": "code",
   "execution_count": 20,
   "metadata": {},
   "outputs": [
    {
     "name": "stdout",
     "output_type": "stream",
     "text": [
      "Epoch: 0, train loss: 1.827, test loss: 2.531, train acc: None, test acc: 0.070\n",
      "Epoch: 1, train loss: 1.761, test loss: 2.446, train acc: None, test acc: 0.081\n",
      "Epoch: 2, train loss: 1.706, test loss: 2.372, train acc: None, test acc: 0.096\n",
      "Epoch: 3, train loss: 1.658, test loss: 2.306, train acc: None, test acc: 0.118\n",
      "Epoch: 4, train loss: 1.614, test loss: 2.244, train acc: None, test acc: 0.148\n",
      "Epoch: 5, train loss: 1.573, test loss: 2.186, train acc: None, test acc: 0.186\n",
      "Epoch: 6, train loss: 1.534, test loss: 2.130, train acc: None, test acc: 0.227\n",
      "Epoch: 7, train loss: 1.496, test loss: 2.077, train acc: None, test acc: 0.273\n",
      "Epoch: 8, train loss: 1.461, test loss: 2.026, train acc: None, test acc: 0.320\n",
      "Epoch: 9, train loss: 1.426, test loss: 1.978, train acc: None, test acc: 0.364\n",
      "Epoch: 10, train loss: 1.394, test loss: 1.931, train acc: None, test acc: 0.405\n",
      "Epoch: 11, train loss: 1.362, test loss: 1.886, train acc: None, test acc: 0.443\n",
      "Epoch: 12, train loss: 1.332, test loss: 1.843, train acc: None, test acc: 0.475\n",
      "Epoch: 13, train loss: 1.302, test loss: 1.801, train acc: None, test acc: 0.504\n",
      "Epoch: 14, train loss: 1.274, test loss: 1.761, train acc: None, test acc: 0.531\n",
      "Epoch: 15, train loss: 1.247, test loss: 1.722, train acc: None, test acc: 0.554\n",
      "Epoch: 16, train loss: 1.221, test loss: 1.685, train acc: None, test acc: 0.574\n",
      "Epoch: 17, train loss: 1.196, test loss: 1.649, train acc: None, test acc: 0.590\n",
      "Epoch: 18, train loss: 1.172, test loss: 1.615, train acc: None, test acc: 0.607\n",
      "Epoch: 19, train loss: 1.149, test loss: 1.582, train acc: None, test acc: 0.621\n",
      "Epoch: 20, train loss: 1.126, test loss: 1.550, train acc: None, test acc: 0.633\n",
      "Epoch: 21, train loss: 1.104, test loss: 1.519, train acc: None, test acc: 0.645\n",
      "Epoch: 22, train loss: 1.084, test loss: 1.489, train acc: None, test acc: 0.657\n",
      "Epoch: 23, train loss: 1.063, test loss: 1.460, train acc: None, test acc: 0.668\n",
      "Epoch: 24, train loss: 1.044, test loss: 1.433, train acc: None, test acc: 0.678\n",
      "Epoch: 25, train loss: 1.025, test loss: 1.406, train acc: None, test acc: 0.687\n",
      "Epoch: 26, train loss: 1.007, test loss: 1.380, train acc: None, test acc: 0.695\n",
      "Epoch: 27, train loss: 0.990, test loss: 1.355, train acc: None, test acc: 0.702\n",
      "Epoch: 28, train loss: 0.973, test loss: 1.331, train acc: None, test acc: 0.710\n",
      "Epoch: 29, train loss: 0.957, test loss: 1.308, train acc: None, test acc: 0.718\n",
      "Epoch: 30, train loss: 0.941, test loss: 1.286, train acc: None, test acc: 0.725\n",
      "Epoch: 31, train loss: 0.926, test loss: 1.264, train acc: None, test acc: 0.731\n",
      "Epoch: 32, train loss: 0.911, test loss: 1.244, train acc: None, test acc: 0.736\n",
      "Epoch: 33, train loss: 0.897, test loss: 1.223, train acc: None, test acc: 0.742\n",
      "Epoch: 34, train loss: 0.884, test loss: 1.204, train acc: None, test acc: 0.747\n",
      "Epoch: 35, train loss: 0.871, test loss: 1.185, train acc: None, test acc: 0.752\n",
      "Epoch: 36, train loss: 0.858, test loss: 1.167, train acc: None, test acc: 0.756\n",
      "Epoch: 37, train loss: 0.845, test loss: 1.149, train acc: None, test acc: 0.761\n",
      "Epoch: 38, train loss: 0.833, test loss: 1.132, train acc: None, test acc: 0.764\n",
      "Epoch: 39, train loss: 0.822, test loss: 1.116, train acc: None, test acc: 0.768\n",
      "Epoch: 40, train loss: 0.811, test loss: 1.100, train acc: None, test acc: 0.772\n",
      "Epoch: 41, train loss: 0.800, test loss: 1.084, train acc: None, test acc: 0.776\n",
      "Epoch: 42, train loss: 0.789, test loss: 1.069, train acc: None, test acc: 0.779\n",
      "Epoch: 43, train loss: 0.779, test loss: 1.055, train acc: None, test acc: 0.782\n",
      "Epoch: 44, train loss: 0.769, test loss: 1.041, train acc: None, test acc: 0.784\n",
      "Epoch: 45, train loss: 0.760, test loss: 1.027, train acc: None, test acc: 0.787\n",
      "Epoch: 46, train loss: 0.750, test loss: 1.014, train acc: None, test acc: 0.789\n",
      "Epoch: 47, train loss: 0.741, test loss: 1.001, train acc: None, test acc: 0.792\n",
      "Epoch: 48, train loss: 0.732, test loss: 0.989, train acc: None, test acc: 0.794\n",
      "Epoch: 49, train loss: 0.724, test loss: 0.976, train acc: None, test acc: 0.797\n",
      "Epoch: 50, train loss: 0.715, test loss: 0.965, train acc: None, test acc: 0.799\n",
      "Epoch: 51, train loss: 0.707, test loss: 0.953, train acc: None, test acc: 0.801\n",
      "Epoch: 52, train loss: 0.700, test loss: 0.942, train acc: None, test acc: 0.804\n",
      "Epoch: 53, train loss: 0.692, test loss: 0.931, train acc: None, test acc: 0.806\n",
      "Epoch: 54, train loss: 0.684, test loss: 0.920, train acc: None, test acc: 0.808\n",
      "Epoch: 55, train loss: 0.677, test loss: 0.910, train acc: None, test acc: 0.809\n",
      "Epoch: 56, train loss: 0.670, test loss: 0.900, train acc: None, test acc: 0.811\n",
      "Epoch: 57, train loss: 0.663, test loss: 0.890, train acc: None, test acc: 0.813\n",
      "Epoch: 58, train loss: 0.656, test loss: 0.881, train acc: None, test acc: 0.815\n",
      "Epoch: 59, train loss: 0.650, test loss: 0.872, train acc: None, test acc: 0.816\n",
      "Epoch: 60, train loss: 0.643, test loss: 0.863, train acc: None, test acc: 0.818\n",
      "Epoch: 61, train loss: 0.637, test loss: 0.854, train acc: None, test acc: 0.820\n",
      "Epoch: 62, train loss: 0.631, test loss: 0.845, train acc: None, test acc: 0.822\n",
      "Epoch: 63, train loss: 0.625, test loss: 0.837, train acc: None, test acc: 0.823\n",
      "Epoch: 64, train loss: 0.620, test loss: 0.829, train acc: None, test acc: 0.825\n",
      "Epoch: 65, train loss: 0.614, test loss: 0.822, train acc: None, test acc: 0.827\n",
      "Epoch: 66, train loss: 0.609, test loss: 0.815, train acc: None, test acc: 0.829\n",
      "Epoch: 67, train loss: 0.605, test loss: 0.809, train acc: None, test acc: 0.830\n",
      "Epoch: 68, train loss: 0.601, test loss: 0.807, train acc: None, test acc: 0.829\n",
      "Epoch: 69, train loss: 0.604, test loss: 0.820, train acc: None, test acc: 0.826\n",
      "Epoch: 70, train loss: 0.617, test loss: 0.845, train acc: None, test acc: 0.819\n",
      "Epoch: 71, train loss: 0.638, test loss: 0.877, train acc: None, test acc: 0.806\n",
      "Epoch: 72, train loss: 0.657, test loss: 0.903, train acc: None, test acc: 0.798\n",
      "Epoch: 73, train loss: 0.679, test loss: 0.924, train acc: None, test acc: 0.795\n",
      "Epoch: 74, train loss: 0.696, test loss: 0.941, train acc: None, test acc: 0.795\n",
      "Epoch: 75, train loss: 0.702, test loss: 0.947, train acc: None, test acc: 0.798\n",
      "Epoch: 76, train loss: 0.703, test loss: 0.948, train acc: None, test acc: 0.804\n"
     ]
    },
    {
     "ename": "KeyboardInterrupt",
     "evalue": "",
     "output_type": "error",
     "traceback": [
      "\u001b[1;31m---------------------------------------------------------------------------\u001b[0m",
      "\u001b[1;31mKeyboardInterrupt\u001b[0m                         Traceback (most recent call last)",
      "Cell \u001b[1;32mIn[20], line 24\u001b[0m\n\u001b[0;32m     22\u001b[0m     x_batch \u001b[38;5;241m=\u001b[39m X\u001b[38;5;241m.\u001b[39miloc[i:i\u001b[38;5;241m+\u001b[39mbatch_size]\u001b[38;5;241m.\u001b[39mvalues \u001b[38;5;241m/\u001b[39m \u001b[38;5;241m255\u001b[39m\n\u001b[0;32m     23\u001b[0m     y_batch \u001b[38;5;241m=\u001b[39m y_one_hot_array[i:i\u001b[38;5;241m+\u001b[39mbatch_size, :]\n\u001b[1;32m---> 24\u001b[0m     loss \u001b[38;5;241m=\u001b[39m sequential_model\u001b[38;5;241m.\u001b[39mbackward(x_batch, y_batch) \u001b[38;5;66;03m# forward pass is incorperated in backward function\u001b[39;00m\n\u001b[0;32m     26\u001b[0m     running_loss \u001b[38;5;241m+\u001b[39m\u001b[38;5;241m=\u001b[39m loss\n\u001b[0;32m     29\u001b[0m y_hat \u001b[38;5;241m=\u001b[39m sequential_model\u001b[38;5;241m.\u001b[39mforward(X_test, backprop\u001b[38;5;241m=\u001b[39m\u001b[38;5;28;01mFalse\u001b[39;00m)\n",
      "File \u001b[1;32mc:\\Users\\Jim\\OneDrive\\Documents\\courses\\ics-637\\numpy_neural_network\\linearnn\\linearnnclasses.py:152\u001b[0m, in \u001b[0;36mSequentialModel.backward\u001b[1;34m(self, x, y)\u001b[0m\n\u001b[0;32m    150\u001b[0m training_loss_class \u001b[38;5;241m=\u001b[39m \u001b[38;5;28mself\u001b[39m\u001b[38;5;241m.\u001b[39mloss_fn_class(l2_lambda\u001b[38;5;241m=\u001b[39m\u001b[38;5;241m1e-4\u001b[39m) \u001b[38;5;66;03m# turn l2 regularization off\u001b[39;00m\n\u001b[0;32m    151\u001b[0m \u001b[38;5;66;03m# performs a backward pass through the model\u001b[39;00m\n\u001b[1;32m--> 152\u001b[0m y_hat \u001b[38;5;241m=\u001b[39m \u001b[38;5;28mself\u001b[39m\u001b[38;5;241m.\u001b[39mforward(x, backprop\u001b[38;5;241m=\u001b[39m\u001b[38;5;28;01mTrue\u001b[39;00m) \u001b[38;5;66;03m# backprop true to save self.linear_transform and self.activation in each layer\u001b[39;00m\n\u001b[0;32m    154\u001b[0m loss \u001b[38;5;241m=\u001b[39m training_loss_class\u001b[38;5;241m.\u001b[39mforward(y\u001b[38;5;241m=\u001b[39my, y_hat\u001b[38;5;241m=\u001b[39my_hat, weights\u001b[38;5;241m=\u001b[39m\u001b[38;5;28mself\u001b[39m\u001b[38;5;241m.\u001b[39mmodel[\u001b[38;5;241m-\u001b[39m\u001b[38;5;241m1\u001b[39m]\u001b[38;5;241m.\u001b[39mweights) \u001b[38;5;66;03m# pass the weights for the last layer\u001b[39;00m\n\u001b[0;32m    155\u001b[0m loss_gradient \u001b[38;5;241m=\u001b[39m training_loss_class\u001b[38;5;241m.\u001b[39mderivative(y\u001b[38;5;241m=\u001b[39my, y_hat\u001b[38;5;241m=\u001b[39my_hat) \u001b[38;5;66;03m# needs to be combined with softmax\u001b[39;00m\n",
      "File \u001b[1;32mc:\\Users\\Jim\\OneDrive\\Documents\\courses\\ics-637\\numpy_neural_network\\linearnn\\linearnnclasses.py:144\u001b[0m, in \u001b[0;36mSequentialModel.forward\u001b[1;34m(self, x, backprop)\u001b[0m\n\u001b[0;32m    141\u001b[0m \u001b[38;5;28;01mfor\u001b[39;00m i \u001b[38;5;129;01min\u001b[39;00m \u001b[38;5;28mrange\u001b[39m(\u001b[38;5;241m0\u001b[39m, \u001b[38;5;28mlen\u001b[39m(\u001b[38;5;28mself\u001b[39m\u001b[38;5;241m.\u001b[39mmodel)):\n\u001b[0;32m    143\u001b[0m     layer \u001b[38;5;241m=\u001b[39m \u001b[38;5;28mself\u001b[39m\u001b[38;5;241m.\u001b[39mmodel[i]\n\u001b[1;32m--> 144\u001b[0m     x \u001b[38;5;241m=\u001b[39m layer\u001b[38;5;241m.\u001b[39mforward(x, backprop) \u001b[38;5;66;03m# if back prop true linear layer will remeber linear transform and activation output\u001b[39;00m\n\u001b[0;32m    146\u001b[0m \u001b[38;5;28;01mreturn\u001b[39;00m x\n",
      "File \u001b[1;32mc:\\Users\\Jim\\OneDrive\\Documents\\courses\\ics-637\\numpy_neural_network\\linearnn\\linearnnclasses.py:36\u001b[0m, in \u001b[0;36mLinearLayer.forward\u001b[1;34m(self, x, backprop)\u001b[0m\n\u001b[0;32m     33\u001b[0m \u001b[38;5;28;01mif\u001b[39;00m backprop: \u001b[38;5;28mself\u001b[39m\u001b[38;5;241m.\u001b[39minput \u001b[38;5;241m=\u001b[39m x \u001b[38;5;66;03m# remeber input to the layer for backprop\u001b[39;00m\n\u001b[0;32m     35\u001b[0m \u001b[38;5;66;03m# linear transformation\u001b[39;00m\n\u001b[1;32m---> 36\u001b[0m linear_transformation_output \u001b[38;5;241m=\u001b[39m np\u001b[38;5;241m.\u001b[39mdot(x, \u001b[38;5;28mself\u001b[39m\u001b[38;5;241m.\u001b[39mweights) \u001b[38;5;241m+\u001b[39m \u001b[38;5;28mself\u001b[39m\u001b[38;5;241m.\u001b[39mbias \u001b[38;5;66;03m# Wx + b\u001b[39;00m\n\u001b[0;32m     37\u001b[0m \u001b[38;5;28;01mif\u001b[39;00m backprop:\u001b[38;5;28mself\u001b[39m\u001b[38;5;241m.\u001b[39mlinear_transrom \u001b[38;5;241m=\u001b[39m linear_transformation_output \u001b[38;5;66;03m# saving these to be used in backpropigation\u001b[39;00m\n\u001b[0;32m     39\u001b[0m \u001b[38;5;66;03m# activation\u001b[39;00m\n",
      "\u001b[1;31mKeyboardInterrupt\u001b[0m: "
     ]
    }
   ],
   "source": [
    "num_epochs = 100\n",
    "batch_size = 500\n",
    "\n",
    "split_position = 50_000\n",
    "X_test = X.iloc[split_position:].values / 255\n",
    "y_test = y_one_hot_array[split_position:,:]\n",
    "y_truth = np.argmax(y_test, axis=1) # convert from onehot to just the correct number\n",
    "split_position = 50_000 # reinitialized to decide training data size\n",
    "\n",
    "train_losses = []\n",
    "test_losses = []\n",
    "test_accuracies = []\n",
    "epochs = list(range(num_epochs)) # if stopping training prematurely this could be an issue\n",
    "\n",
    "test_loss_fn_class = lossfunctions.CategoricalCrossEntropy(l2_lambda=0.0)\n",
    "\n",
    "\n",
    "for epoch in range(num_epochs):\n",
    "    # itterate over batches\n",
    "    running_loss = 0.0\n",
    "    for i in range(0, X.iloc[:split_position].shape[0]-batch_size, batch_size):\n",
    "        x_batch = X.iloc[i:i+batch_size].values / 255\n",
    "        y_batch = y_one_hot_array[i:i+batch_size, :]\n",
    "        loss = sequential_model.backward(x_batch, y_batch) # forward pass is incorperated in backward function\n",
    "     \n",
    "        running_loss += loss\n",
    "    \n",
    "\n",
    "    y_hat = sequential_model.forward(X_test, backprop=False)\n",
    "    test_loss = test_loss_fn_class.forward(y=y_test, y_hat=y_hat)\n",
    "    test_losses.append(test_loss)\n",
    "\n",
    "    predicted_nums = np.argmax(y_hat, axis=1)\n",
    "    correct_predictions = np.sum(predicted_nums == y_truth)\n",
    "    test_accuracy = correct_predictions / y_truth.shape[0]\n",
    "    test_accuracies.append(test_accuracy)\n",
    "\n",
    "    print(f'Epoch: {epoch}, train loss: {running_loss/(X.shape[0]/batch_size):0.3f}, test loss: {test_loss:0.3f}, train acc: {None}, test acc: {test_accuracy:0.3f}')\n",
    "\n"
   ]
  },
  {
   "cell_type": "code",
   "execution_count": 203,
   "metadata": {},
   "outputs": [
    {
     "data": {
      "text/plain": [
       "array([[0, 0, 0, ..., 0, 0, 0],\n",
       "       [0, 0, 0, ..., 0, 0, 0],\n",
       "       [0, 0, 0, ..., 0, 0, 0],\n",
       "       ...,\n",
       "       [0, 0, 0, ..., 0, 0, 0],\n",
       "       [0, 0, 0, ..., 0, 0, 0],\n",
       "       [0, 0, 0, ..., 0, 0, 0]], dtype=int64)"
      ]
     },
     "execution_count": 203,
     "metadata": {},
     "output_type": "execute_result"
    }
   ],
   "source": [
    "X[-100:-1].values"
   ]
  },
  {
   "cell_type": "code",
   "execution_count": 215,
   "metadata": {},
   "outputs": [],
   "source": [
    "preds = sequential_model.forward(X[-100:-1].values)"
   ]
  },
  {
   "cell_type": "code",
   "execution_count": 216,
   "metadata": {},
   "outputs": [
    {
     "data": {
      "text/plain": [
       "array([7, 7, 7, 7, 7, 1, 9, 4, 2, 5, 7, 7, 1, 7, 7, 7, 7, 6, 1, 9, 7, 8,\n",
       "       7, 7, 6, 7, 7, 2, 6, 7, 6, 9, 2, 1, 6, 9, 7, 1, 7, 7, 1, 5, 8, 8,\n",
       "       9, 0, 9, 7, 9, 6, 7, 1, 8, 7, 9, 1, 9, 5, 2, 9, 5, 9, 7, 7, 7, 7,\n",
       "       7, 7, 8, 7, 7, 7, 6, 5, 7, 7, 9, 7, 9, 7, 7, 9, 9, 0, 7, 9, 1, 7,\n",
       "       7, 7, 7, 8, 7, 7, 7, 2, 1, 1, 1], dtype=int64)"
      ]
     },
     "execution_count": 216,
     "metadata": {},
     "output_type": "execute_result"
    }
   ],
   "source": [
    "max_indices = np.argmax(preds, axis=1)\n",
    "max_indices"
   ]
  },
  {
   "cell_type": "code",
   "execution_count": 217,
   "metadata": {},
   "outputs": [
    {
     "data": {
      "text/plain": [
       "array([8, 9, 0, 1, 2, 3, 4, 5, 6, 7, 8, 0, 1, 2, 3, 4, 7, 8, 9, 7, 8, 6,\n",
       "       4, 1, 9, 3, 8, 4, 4, 7, 0, 1, 9, 2, 8, 7, 8, 2, 6, 0, 6, 5, 3, 3,\n",
       "       3, 9, 1, 4, 0, 6, 1, 0, 0, 6, 2, 1, 1, 7, 7, 8, 4, 6, 0, 7, 0, 3,\n",
       "       6, 8, 7, 1, 5, 2, 4, 9, 4, 3, 6, 4, 1, 7, 2, 6, 5, 0, 1, 2, 3, 4,\n",
       "       5, 6, 7, 8, 9, 0, 1, 2, 3, 4, 5], dtype=int64)"
      ]
     },
     "execution_count": 217,
     "metadata": {},
     "output_type": "execute_result"
    }
   ],
   "source": [
    "np.argmax(y_one_hot_array[-100:-1, :], axis=1)"
   ]
  }
 ],
 "metadata": {
  "kernelspec": {
   "display_name": "numpy_env",
   "language": "python",
   "name": "python3"
  },
  "language_info": {
   "codemirror_mode": {
    "name": "ipython",
    "version": 3
   },
   "file_extension": ".py",
   "mimetype": "text/x-python",
   "name": "python",
   "nbconvert_exporter": "python",
   "pygments_lexer": "ipython3",
   "version": "3.11.10"
  }
 },
 "nbformat": 4,
 "nbformat_minor": 2
}
