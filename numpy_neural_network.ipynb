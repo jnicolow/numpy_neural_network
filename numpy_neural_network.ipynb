{
 "cells": [
  {
   "cell_type": "code",
   "execution_count": 1,
   "metadata": {},
   "outputs": [],
   "source": [
    "from sklearn.datasets import fetch_openml # load MNIST data set\n",
    "import pandas as pd\n",
    "import numpy as np\n",
    "import matplotlib.pyplot as plt\n",
    "import math # for exp in sigmoid"
   ]
  },
  {
   "cell_type": "markdown",
   "metadata": {},
   "source": [
    "# 1. Load MNIST Dataset\n",
    "<img src='media/MNIST_examples.png' alt='MNIST examples'>"
   ]
  },
  {
   "cell_type": "code",
   "execution_count": 62,
   "metadata": {},
   "outputs": [
    {
     "data": {
      "text/plain": [
       "<matplotlib.image.AxesImage at 0x28ba0234e10>"
      ]
     },
     "execution_count": 62,
     "metadata": {},
     "output_type": "execute_result"
    },
    {
     "data": {
      "image/png": "[encoded data removed]",
      "text/plain": [
       "<Figure size 640x480 with 1 Axes>"
      ]
     },
     "metadata": {},
     "output_type": "display_data"
    }
   ],
   "source": [
    "# load data from sklearn\n",
    "mnist = fetch_openml('mnist_784')\n",
    "X, y = mnist['data'], mnist['target'] # two dataframes\n",
    "y_one_hot_array = pd.get_dummies(y, prefix='class').to_numpy().astype(int)\n",
    "# plot first example\n",
    "image = X.iloc[0].values.reshape(28, 28)\n",
    "label = y.iloc[0]\n",
    "plt.title(f'This image of a hand written number: {label}')\n",
    "plt.imshow(image, cmap='gray')"
   ]
  },
  {
   "cell_type": "markdown",
   "metadata": {},
   "source": [
    "# 2. Activation Functions"
   ]
  },
  {
   "cell_type": "code",
   "execution_count": 19,
   "metadata": {},
   "outputs": [],
   "source": [
    "def ReLU(x):\n",
    "    # rectified linear unit\n",
    "    return np.maximum(0, x)\n",
    "\n",
    "def SELU(x):\n",
    "    # scaled exponential linear unit\n",
    "    return np.where(x <= 0, 1.75809 * (np.exp(x)-1), 1.0507 * x)\n",
    "\n",
    "def tanh(x):\n",
    "    # hyperbolic tangent\n",
    "    x = np.clip(x, -500, 500)  # prevent overflow\n",
    "    exp_x = np.exp(x)\n",
    "    exp_neg_x = np.exp(-x)\n",
    "    return (exp_x - exp_neg_x) / (exp_x + exp_neg_x)\n",
    "\n",
    "\n",
    "def softmax(x):\n",
    "    denominator = np.sum(np.exp(x)) # sum of all the e^logit for every logit\n",
    "    return np.exp(x) / denominator # normalize e^logit value by sum of e^logits\n",
    "\n",
    "\n",
    "def sigmoid(x):\n",
    "    return 1 / (1 + math.exp(-x))"
   ]
  },
  {
   "cell_type": "markdown",
   "metadata": {},
   "source": [
    "# 3. Initialize Numpy Neural Network\n",
    "<img src='media/nn_arcitecture.png' alt='Network Arcitecture'>\n",
    "\n",
    "## Weight Initializations"
   ]
  },
  {
   "cell_type": "code",
   "execution_count": 4,
   "metadata": {},
   "outputs": [],
   "source": [
    "def xavier_init(size):\n",
    "    in_dim, out_dim = size\n",
    "    limit = np.sqrt(6 / (in_dim + out_dim))\n",
    "    return np.random.uniform(-limit, limit, size)\n",
    "\n",
    "\n",
    "def he_init(size):\n",
    "    in_dim, _ = size\n",
    "    stddev = np.sqrt(2 / in_dim)\n",
    "    return np.random.normal(0, stddev, size)"
   ]
  },
  {
   "cell_type": "code",
   "execution_count": 5,
   "metadata": {},
   "outputs": [
    {
     "data": {
      "text/plain": [
       "(784,)"
      ]
     },
     "execution_count": 5,
     "metadata": {},
     "output_type": "execute_result"
    }
   ],
   "source": [
    "X.iloc[0].values.shape"
   ]
  },
  {
   "cell_type": "code",
   "execution_count": 36,
   "metadata": {},
   "outputs": [
    {
     "name": "stdout",
     "output_type": "stream",
     "text": [
      "shape of layer 1 rep: (1568,)\n",
      "shape of layer 2 rep: (2000,)\n",
      "shape of layer 3 rep: (784,)\n",
      "output shape: (10,)\n"
     ]
    }
   ],
   "source": [
    "x = X.iloc[0].values / 255 # normalize it\n",
    "input_size = X.iloc[0].values.shape[0]\n",
    "output_size = len(y.values.unique())\n",
    "\n",
    "#### Initialize weight matrixes\n",
    "\n",
    "# first layer of model\n",
    "l1_num_nodes = 1568\n",
    "l1_weights = np.random.randn(input_size, l1_num_nodes)\n",
    "l1_output = np.dot(x, l1_weights) # you would just add a bias term to this\n",
    "print(f'shape of layer 1 rep: {l1_output.shape}')\n",
    "# second layer of the model\n",
    "l2_num_nodes = 2000\n",
    "l2_weights = np.random.randn(l1_num_nodes, l2_num_nodes)\n",
    "l2_output = np.dot(l1_output, l2_weights) # you would just add a bias term to this\n",
    "print(f'shape of layer 2 rep: {l2_output.shape}')\n",
    "\n",
    "# Third layer\n",
    "l3_num_nodes = 784\n",
    "l3_weights = np.random.randn(l2_num_nodes, l3_num_nodes)\n",
    "l3_output = np.dot(l2_output, l3_weights) # you would just add a bias term to this\n",
    "print(f'shape of layer 3 rep: {l3_output.shape}')\n",
    "\n",
    "# Final output layer\n",
    "l4_num_nodes = output_size\n",
    "l4_weights = np.random.randn(l3_num_nodes, l4_num_nodes)\n",
    "l4_output = np.dot(l3_output, l4_weights) # you would just add a bias term to this\n",
    "print(f'output shape: {l4_output.shape}')"
   ]
  },
  {
   "cell_type": "code",
   "execution_count": 37,
   "metadata": {},
   "outputs": [
    {
     "name": "stdout",
     "output_type": "stream",
     "text": [
      "LinearLayer input:784, output:1568, activation:<function ReLU at 0x0000028B2BC551C0>\n"
     ]
    },
    {
     "data": {
      "text/plain": [
       "array([0.4289164, 0.       , 0.       , ..., 0.       , 0.       ,\n",
       "       0.       ])"
      ]
     },
     "execution_count": 37,
     "metadata": {},
     "output_type": "execute_result"
    }
   ],
   "source": [
    "from linearnn import linearnnclasses\n",
    "linearlayer = linearnnclasses.LinearLayer(\n",
    "    input_size=784, \n",
    "    output_size=1568, \n",
    "    activation=ReLU, \n",
    "    weight_init=he_init\n",
    ")\n",
    "\n",
    "print(linearlayer)\n",
    "linearlayer.forward(x)"
   ]
  },
  {
   "cell_type": "code",
   "execution_count": 41,
   "metadata": {},
   "outputs": [
    {
     "name": "stdout",
     "output_type": "stream",
     "text": [
      "(784, 1568, 2000, 784, 10)\n",
      "LinearLayer input:784, output:1568, activation:<function ReLU at 0x0000028B2BC551C0>\n",
      "LinearLayer input:1568, output:2000, activation:<function SELU at 0x0000028B31ACD940>\n",
      "LinearLayer input:2000, output:784, activation:<function tanh at 0x0000028B31ACC540>\n",
      "LinearLayer input:784, output:10, activation:<function softmax at 0x0000028B31ACDA80>\n"
     ]
    },
    {
     "data": {
      "text/plain": [
       "array([0.06279801, 0.06060081, 0.03855207, 0.23979352, 0.11974261,\n",
       "       0.18206953, 0.02868332, 0.02555174, 0.14718357, 0.09502482])"
      ]
     },
     "execution_count": 41,
     "metadata": {},
     "output_type": "execute_result"
    }
   ],
   "source": [
    "from linearnn import linearnnclasses\n",
    "import importlib\n",
    "importlib.reload(linearnnclasses)\n",
    "\n",
    "sequential_model = linearnnclasses.SequentialModel(\n",
    "    input_size=784,\n",
    "    output_size=10,\n",
    "    hidden_layers=(1568, 2000, 784), \n",
    "    activations=(ReLU, ReLU, SELU, tanh, softmax),\n",
    "    weight_init=(he_init, he_init, he_init, xavier_init, he_init)\n",
    ")\n",
    "sequential_model.forward(x)"
   ]
  },
  {
   "cell_type": "markdown",
   "metadata": {},
   "source": [
    "# 4. Model Training\n",
    "\n",
    "## Loss"
   ]
  },
  {
   "cell_type": "code",
   "execution_count": 75,
   "metadata": {},
   "outputs": [],
   "source": [
    "def categorical_cross_entropy(y:np.array, y_hat:np.array):\n",
    "    y_hat = y_hat + 1e-07 # just incase there are zero values\n",
    "    return -np.sum(y * np.log(y_hat))"
   ]
  },
  {
   "cell_type": "code",
   "execution_count": 79,
   "metadata": {},
   "outputs": [
    {
     "data": {
      "text/plain": [
       "0.010050234843405595"
      ]
     },
     "execution_count": 79,
     "metadata": {},
     "output_type": "execute_result"
    }
   ],
   "source": [
    "y_hat = [0.01, 0.3, 0.00007, 0.66, 0.000001, 0.000001, 0.0002, 0.02, 0.1, 0.45]\n",
    "y_hat = [0,0,0,0,0,.99,.01,0,0,0]\n",
    "# y_hat = [0,0,0,0,0,0,0,0,0,1]\n",
    "\n",
    "categorical_cross_entropy(y_one_hot_array[0, :], np.array(y_hat))"
   ]
  },
  {
   "cell_type": "code",
   "execution_count": 63,
   "metadata": {},
   "outputs": [
    {
     "data": {
      "text/plain": [
       "array([0, 0, 0, 0, 0, 1, 0, 0, 0, 0])"
      ]
     },
     "execution_count": 63,
     "metadata": {},
     "output_type": "execute_result"
    }
   ],
   "source": [
    "y_one_hot_array[0, :]"
   ]
  }
 ],
 "metadata": {
  "kernelspec": {
   "display_name": "numpy_env",
   "language": "python",
   "name": "python3"
  },
  "language_info": {
   "codemirror_mode": {
    "name": "ipython",
    "version": 3
   },
   "file_extension": ".py",
   "mimetype": "text/x-python",
   "name": "python",
   "nbconvert_exporter": "python",
   "pygments_lexer": "ipython3",
   "version": "3.11.10"
  }
 },
 "nbformat": 4,
 "nbformat_minor": 2
}
